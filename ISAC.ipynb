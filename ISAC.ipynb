{
 "cells": [
  {
   "cell_type": "code",
   "execution_count": 1,
   "id": "b9ea9e20",
   "metadata": {},
   "outputs": [],
   "source": [
    "\n",
    "import unittest\n",
    "\n",
    "import numpy as np\n",
    "\n",
    "from ISAC.ISAC_Env.veicband import veicband\n",
    "from warp_drive.env_cpu_gpu_consistency_checker import EnvironmentCPUvsGPU\n",
    "\n",
    "# Env configs for testing\n",
    "env_configs = {\n",
    "    \"test1\": {\n",
    "        \"num_taggers\": 2,\n",
    "        \"num_runners\": 3,\n",
    "        \"max_acceleration\": 1,\n",
    "        \"max_turn\": np.pi / 4,\n",
    "        \"num_acceleration_levels\": 3,\n",
    "        \"num_turn_levels\": 3,\n",
    "        \"grid_length\": 10,\n",
    "        \"episode_length\": 100,\n",
    "        \"seed\": 274880,\n",
    "        \"skill_level_runner\": 1,\n",
    "        \"skill_level_tagger\": 1,\n",
    "        \"use_full_observation\": True,\n",
    "        \"runner_exits_game_after_tagged\": True,\n",
    "        \"tagging_distance\": 0.0,\n",
    "    }}\n",
    "\n",
    "\n",
    "\n",
    "class MyTestCase(unittest.TestCase):\n",
    "    \"\"\"\n",
    "    CPU v GPU consistency unit tests\n",
    "    \"\"\"\n",
    "\n",
    "    def __init__(self, *args, **kwargs):\n",
    "        super().__init__(*args, **kwargs)\n",
    "        self.testing_class = EnvironmentCPUvsGPU(dual_mode_env_class=veicband, env_configs=env_configs,  gpu_env_backend=\"pycuda\", num_envs=2, num_episodes=2,  use_gpu_testing_mode=True)\n",
    "\n",
    "    def test_env_consistency(self):\n",
    "        try:\n",
    "            self.testing_class.test_env_reset_and_step(seed=274880)\n",
    "        except AssertionError:\n",
    "            self.fail(\"ISAC environment consistency tests failed\")\n"
   ]
  },
  {
   "cell_type": "code",
   "execution_count": null,
   "id": "79395c05",
   "metadata": {},
   "outputs": [
    {
     "name": "stderr",
     "output_type": "stream",
     "text": [
      "INFO:root:USING CUDA...\n"
     ]
    },
    {
     "name": "stdout",
     "output_type": "stream",
     "text": [
      "Performing the consistency checks for scenario: test1...\n"
     ]
    },
    {
     "name": "stderr",
     "output_type": "stream",
     "text": [
      "INFO:root:We use blocks_per_env = 1 \n",
      "INFO:root:Initializing the CUDA data manager...\n",
      "INFO:root:\n",
      "Pushing data to device...\n",
      "INFO:root:- _log_mask_                                                                      : dtype=int32     , shape=(101,)\n",
      "INFO:root:\n",
      "Pushing data to device...\n"
     ]
    }
   ],
   "source": [
    "mtc = MyTestCase()\n",
    "# Set logger level e.g., DEBUG, INFO, WARNING, ERROR\n",
    "import logging\n",
    "logging.getLogger().setLevel(logging.INFO)\n",
    "\n",
    "mtc.test_env_consistency()"
   ]
  },
  {
   "cell_type": "code",
   "execution_count": null,
   "id": "8875be37",
   "metadata": {},
   "outputs": [],
   "source": [
    "\n",
    "\n",
    "# importing os module\n",
    "import ISAC.ISAC_Env.veicband\n",
    " \n",
    "\n",
    "\n",
    "# importing random module\n",
    "import inspect\n",
    " \n",
    "# printing the file path of os module\n",
    "print(inspect.getfile(ISAC.ISAC_Env.veicband))"
   ]
  },
  {
   "cell_type": "code",
   "execution_count": null,
   "id": "a64f8ef4",
   "metadata": {},
   "outputs": [],
   "source": []
  }
 ],
 "metadata": {
  "kernelspec": {
   "display_name": "Python 3 (ipykernel)",
   "language": "python",
   "name": "python3"
  },
  "language_info": {
   "codemirror_mode": {
    "name": "ipython",
    "version": 3
   },
   "file_extension": ".py",
   "mimetype": "text/x-python",
   "name": "python",
   "nbconvert_exporter": "python",
   "pygments_lexer": "ipython3",
   "version": "3.8.10"
  }
 },
 "nbformat": 4,
 "nbformat_minor": 5
}
