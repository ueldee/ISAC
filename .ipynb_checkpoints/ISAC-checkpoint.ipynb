{
 "cells": [
  {
   "cell_type": "code",
   "execution_count": 1,
   "id": "512af2bf",
   "metadata": {},
   "outputs": [],
   "source": [
    "\n",
    "import unittest\n",
    "\n",
    "import numpy as np\n",
    "\n",
    "from ISAC.ISAC_Env.veicband import veicband\n",
    "from warp_drive.env_cpu_gpu_consistency_checker import EnvironmentCPUvsGPU\n",
    "\n",
    "# Env configs for testing\n",
    "env_configs = {\n",
    "    \"test1\": {\n",
    "        \"num_taggers\": 2,\n",
    "        \"num_runners\": 3,\n",
    "        \"max_acceleration\": 1,\n",
    "        \"max_turn\": np.pi / 4,\n",
    "        \"num_acceleration_levels\": 3,\n",
    "        \"num_turn_levels\": 3,\n",
    "        \"grid_length\": 10,\n",
    "        \"episode_length\": 100,\n",
    "        \"seed\": 274880,\n",
    "        \"skill_level_runner\": 1,\n",
    "        \"skill_level_tagger\": 1,\n",
    "        \"use_full_observation\": True,\n",
    "        \"runner_exits_game_after_tagged\": True,\n",
    "        \"tagging_distance\": 0.0,\n",
    "    }}\n",
    "\n",
    "\n",
    "\n",
    "class MyTestCase(unittest.TestCase):\n",
    "    \"\"\"\n",
    "    CPU v GPU consistency unit tests\n",
    "    \"\"\"\n",
    "\n",
    "    def __init__(self, *args, **kwargs):\n",
    "        super().__init__(*args, **kwargs)\n",
    "        self.testing_class = EnvironmentCPUvsGPU(dual_mode_env_class=veicband, env_configs=env_configs,  gpu_env_backend=\"pycuda\", num_envs=2, num_episodes=2,  use_gpu_testing_mode=False)\n",
    "\n",
    "    def test_env_consistency(self):\n",
    "        try:\n",
    "            self.testing_class.test_env_reset_and_step(seed=274880)\n",
    "        except AssertionError:\n",
    "            self.fail(\"ISAC environment consistency tests failed\")\n"
   ]
  },
  {
   "cell_type": "code",
   "execution_count": 3,
   "id": "ff3ebb5b",
   "metadata": {},
   "outputs": [
    {
     "name": "stderr",
     "output_type": "stream",
     "text": [
      "WARNING:root:enforce num_envs = 2 because you have use_gpu_testing_mode = True, where the cubin filesupporting this testing mode assumes 2 parallel example_envs\n",
      "INFO:root:USING CUDA...\n",
      "INFO:root:We use blocks_per_env = 1 \n",
      "INFO:root:Initializing the CUDA data manager...\n",
      "INFO:root:\n",
      "Pushing data to device...\n",
      "INFO:root:- _log_mask_                                                                      : dtype=int32     , shape=(101,)\n",
      "INFO:root:\n",
      "Pushing data to device...\n",
      "INFO:root:- _done_                                                                          : dtype=int32     , shape=(2,)\n",
      "INFO:root:\n",
      "Pushing data to device...\n",
      "INFO:root:- _timestep_                                                                      : dtype=int32     , shape=(2,)\n",
      "INFO:root:Initializing the CUDA function manager...\n",
      "INFO:root:Using cubin_filepath: /root/warp-drive/warp_drive/cuda_bin\n",
      "INFO:root:Successfully load the cubin_file from /root/warp-drive/warp_drive/cuda_bin/test_build.fatbin\n",
      "INFO:root:starting to load the cuda kernel function: reset_log_mask from the CUDA module \n",
      "INFO:root:finished loading the cuda kernel function: reset_log_mask from the CUDA module, \n",
      "INFO:root:starting to load the cuda kernel function: update_log_mask from the CUDA module \n",
      "INFO:root:finished loading the cuda kernel function: update_log_mask from the CUDA module, \n",
      "INFO:root:starting to load the cuda kernel function: log_one_step_in_float from the CUDA module \n",
      "INFO:root:finished loading the cuda kernel function: log_one_step_in_float from the CUDA module, \n",
      "INFO:root:starting to load the cuda kernel function: log_one_step_in_int from the CUDA module \n",
      "INFO:root:finished loading the cuda kernel function: log_one_step_in_int from the CUDA module, \n",
      "INFO:root:starting to load the cuda kernel function: reset_in_float_when_done_2d from the CUDA module \n",
      "INFO:root:finished loading the cuda kernel function: reset_in_float_when_done_2d from the CUDA module, \n",
      "INFO:root:starting to load the cuda kernel function: reset_in_int_when_done_2d from the CUDA module \n",
      "INFO:root:finished loading the cuda kernel function: reset_in_int_when_done_2d from the CUDA module, \n",
      "INFO:root:starting to load the cuda kernel function: reset_in_float_when_done_3d from the CUDA module \n",
      "INFO:root:finished loading the cuda kernel function: reset_in_float_when_done_3d from the CUDA module, \n",
      "INFO:root:starting to load the cuda kernel function: reset_in_int_when_done_3d from the CUDA module \n",
      "INFO:root:finished loading the cuda kernel function: reset_in_int_when_done_3d from the CUDA module, \n",
      "INFO:root:starting to load the cuda kernel function: undo_done_flag_and_reset_timestep from the CUDA module \n",
      "INFO:root:finished loading the cuda kernel function: undo_done_flag_and_reset_timestep from the CUDA module, \n",
      "INFO:root:starting to load the cuda kernel function: init_random from the CUDA module \n",
      "INFO:root:finished loading the cuda kernel function: init_random from the CUDA module, \n",
      "INFO:root:starting to load the cuda kernel function: free_random from the CUDA module \n",
      "INFO:root:finished loading the cuda kernel function: free_random from the CUDA module, \n",
      "INFO:root:starting to load the cuda kernel function: sample_actions from the CUDA module \n",
      "INFO:root:finished loading the cuda kernel function: sample_actions from the CUDA module, \n",
      "INFO:root:Successfully initialize the default CUDA functions managed by the CUDAFunctionManager\n",
      "INFO:root:starting to load the cuda kernel function: CudaveicbandStep from the CUDA module \n",
      "ERROR:root:cuModuleGetFunction failed: named symbol not found\n"
     ]
    },
    {
     "name": "stdout",
     "output_type": "stream",
     "text": [
      "Performing the consistency checks for scenario: test1...\n"
     ]
    },
    {
     "ename": "AssertionError",
     "evalue": "ISAC environment consistency tests failed",
     "output_type": "error",
     "traceback": [
      "\u001b[0;31m---------------------------------------------------------------------------\u001b[0m",
      "\u001b[0;31mAssertionError\u001b[0m                            Traceback (most recent call last)",
      "\u001b[0;32m/tmp/ipykernel_2931/1500764561.py\u001b[0m in \u001b[0;36mtest_env_consistency\u001b[0;34m(self)\u001b[0m\n\u001b[1;32m     39\u001b[0m         \u001b[0;32mtry\u001b[0m\u001b[0;34m:\u001b[0m\u001b[0;34m\u001b[0m\u001b[0;34m\u001b[0m\u001b[0m\n\u001b[0;32m---> 40\u001b[0;31m             \u001b[0mself\u001b[0m\u001b[0;34m.\u001b[0m\u001b[0mtesting_class\u001b[0m\u001b[0;34m.\u001b[0m\u001b[0mtest_env_reset_and_step\u001b[0m\u001b[0;34m(\u001b[0m\u001b[0mseed\u001b[0m\u001b[0;34m=\u001b[0m\u001b[0;36m274880\u001b[0m\u001b[0;34m)\u001b[0m\u001b[0;34m\u001b[0m\u001b[0;34m\u001b[0m\u001b[0m\n\u001b[0m\u001b[1;32m     41\u001b[0m         \u001b[0;32mexcept\u001b[0m \u001b[0mAssertionError\u001b[0m\u001b[0;34m:\u001b[0m\u001b[0;34m\u001b[0m\u001b[0;34m\u001b[0m\u001b[0m\n",
      "\u001b[0;32m~/warp-drive/warp_drive/env_cpu_gpu_consistency_checker.py\u001b[0m in \u001b[0;36mtest_env_reset_and_step\u001b[0;34m(self, consistency_threshold_pct, seed)\u001b[0m\n\u001b[1;32m    237\u001b[0m                 )\n\u001b[0;32m--> 238\u001b[0;31m             \u001b[0menv_gpu\u001b[0m \u001b[0;34m=\u001b[0m \u001b[0mself\u001b[0m\u001b[0;34m.\u001b[0m\u001b[0menv_wrapper\u001b[0m\u001b[0;34m(\u001b[0m\u001b[0;34m**\u001b[0m\u001b[0mkwargs\u001b[0m\u001b[0;34m)\u001b[0m\u001b[0;34m\u001b[0m\u001b[0;34m\u001b[0m\u001b[0m\n\u001b[0m\u001b[1;32m    239\u001b[0m             \u001b[0menv_gpu\u001b[0m\u001b[0;34m.\u001b[0m\u001b[0mreset_all_envs\u001b[0m\u001b[0;34m(\u001b[0m\u001b[0;34m)\u001b[0m\u001b[0;34m\u001b[0m\u001b[0;34m\u001b[0m\u001b[0m\n",
      "\u001b[0;32m~/warp-drive/warp_drive/utils/argument_fix.py\u001b[0m in \u001b[0;36mfixed_f\u001b[0;34m(*args, **kwargs)\u001b[0m\n\u001b[1;32m     45\u001b[0m             \u001b[0;31m# Call the function with the fixed arguments\u001b[0m\u001b[0;34m\u001b[0m\u001b[0;34m\u001b[0m\u001b[0;34m\u001b[0m\u001b[0m\n\u001b[0;32m---> 46\u001b[0;31m             \u001b[0;32mreturn\u001b[0m \u001b[0mf\u001b[0m\u001b[0;34m(\u001b[0m\u001b[0;34m*\u001b[0m\u001b[0margs\u001b[0m\u001b[0;34m,\u001b[0m \u001b[0;34m**\u001b[0m\u001b[0mkwargs\u001b[0m\u001b[0;34m)\u001b[0m\u001b[0;34m\u001b[0m\u001b[0;34m\u001b[0m\u001b[0m\n\u001b[0m\u001b[1;32m     47\u001b[0m \u001b[0;34m\u001b[0m\u001b[0m\n",
      "\u001b[0;32m~/warp-drive/warp_drive/env_wrapper.py\u001b[0m in \u001b[0;36m__init__\u001b[0;34m(self, env_obj, env_name, env_config, num_envs, blocks_per_env, env_backend, testing_mode, testing_bin_filename, env_registrar, event_messenger, process_id)\u001b[0m\n\u001b[1;32m    250\u001b[0m             )\n\u001b[0;32m--> 251\u001b[0;31m             assert (\n\u001b[0m\u001b[1;32m    252\u001b[0m                 \u001b[0mcontext_ready\u001b[0m\u001b[0;34m\u001b[0m\u001b[0;34m\u001b[0m\u001b[0m\n",
      "\u001b[0;31mAssertionError\u001b[0m: The environment class failed to initialize the CUDA step function",
      "\nDuring handling of the above exception, another exception occurred:\n",
      "\u001b[0;31mAssertionError\u001b[0m                            Traceback (most recent call last)",
      "\u001b[0;32m/tmp/ipykernel_2931/4178345381.py\u001b[0m in \u001b[0;36m<module>\u001b[0;34m\u001b[0m\n\u001b[1;32m      4\u001b[0m \u001b[0mlogging\u001b[0m\u001b[0;34m.\u001b[0m\u001b[0mgetLogger\u001b[0m\u001b[0;34m(\u001b[0m\u001b[0;34m)\u001b[0m\u001b[0;34m.\u001b[0m\u001b[0msetLevel\u001b[0m\u001b[0;34m(\u001b[0m\u001b[0mlogging\u001b[0m\u001b[0;34m.\u001b[0m\u001b[0mDEBUG\u001b[0m\u001b[0;34m)\u001b[0m\u001b[0;34m\u001b[0m\u001b[0;34m\u001b[0m\u001b[0m\n\u001b[1;32m      5\u001b[0m \u001b[0;34m\u001b[0m\u001b[0m\n\u001b[0;32m----> 6\u001b[0;31m \u001b[0mmtc\u001b[0m\u001b[0;34m.\u001b[0m\u001b[0mtest_env_consistency\u001b[0m\u001b[0;34m(\u001b[0m\u001b[0;34m)\u001b[0m\u001b[0;34m\u001b[0m\u001b[0;34m\u001b[0m\u001b[0m\n\u001b[0m",
      "\u001b[0;32m/tmp/ipykernel_2931/1500764561.py\u001b[0m in \u001b[0;36mtest_env_consistency\u001b[0;34m(self)\u001b[0m\n\u001b[1;32m     40\u001b[0m             \u001b[0mself\u001b[0m\u001b[0;34m.\u001b[0m\u001b[0mtesting_class\u001b[0m\u001b[0;34m.\u001b[0m\u001b[0mtest_env_reset_and_step\u001b[0m\u001b[0;34m(\u001b[0m\u001b[0mseed\u001b[0m\u001b[0;34m=\u001b[0m\u001b[0;36m274880\u001b[0m\u001b[0;34m)\u001b[0m\u001b[0;34m\u001b[0m\u001b[0;34m\u001b[0m\u001b[0m\n\u001b[1;32m     41\u001b[0m         \u001b[0;32mexcept\u001b[0m \u001b[0mAssertionError\u001b[0m\u001b[0;34m:\u001b[0m\u001b[0;34m\u001b[0m\u001b[0;34m\u001b[0m\u001b[0m\n\u001b[0;32m---> 42\u001b[0;31m             \u001b[0mself\u001b[0m\u001b[0;34m.\u001b[0m\u001b[0mfail\u001b[0m\u001b[0;34m(\u001b[0m\u001b[0;34m\"ISAC environment consistency tests failed\"\u001b[0m\u001b[0;34m)\u001b[0m\u001b[0;34m\u001b[0m\u001b[0;34m\u001b[0m\u001b[0m\n\u001b[0m",
      "\u001b[0;32m/opt/conda/lib/python3.8/unittest/case.py\u001b[0m in \u001b[0;36mfail\u001b[0;34m(self, msg)\u001b[0m\n\u001b[1;32m    751\u001b[0m     \u001b[0;32mdef\u001b[0m \u001b[0mfail\u001b[0m\u001b[0;34m(\u001b[0m\u001b[0mself\u001b[0m\u001b[0;34m,\u001b[0m \u001b[0mmsg\u001b[0m\u001b[0;34m=\u001b[0m\u001b[0;32mNone\u001b[0m\u001b[0;34m)\u001b[0m\u001b[0;34m:\u001b[0m\u001b[0;34m\u001b[0m\u001b[0;34m\u001b[0m\u001b[0m\n\u001b[1;32m    752\u001b[0m         \u001b[0;34m\"\"\"Fail immediately, with the given message.\"\"\"\u001b[0m\u001b[0;34m\u001b[0m\u001b[0;34m\u001b[0m\u001b[0m\n\u001b[0;32m--> 753\u001b[0;31m         \u001b[0;32mraise\u001b[0m \u001b[0mself\u001b[0m\u001b[0;34m.\u001b[0m\u001b[0mfailureException\u001b[0m\u001b[0;34m(\u001b[0m\u001b[0mmsg\u001b[0m\u001b[0;34m)\u001b[0m\u001b[0;34m\u001b[0m\u001b[0;34m\u001b[0m\u001b[0m\n\u001b[0m\u001b[1;32m    754\u001b[0m \u001b[0;34m\u001b[0m\u001b[0m\n\u001b[1;32m    755\u001b[0m     \u001b[0;32mdef\u001b[0m \u001b[0massertFalse\u001b[0m\u001b[0;34m(\u001b[0m\u001b[0mself\u001b[0m\u001b[0;34m,\u001b[0m \u001b[0mexpr\u001b[0m\u001b[0;34m,\u001b[0m \u001b[0mmsg\u001b[0m\u001b[0;34m=\u001b[0m\u001b[0;32mNone\u001b[0m\u001b[0;34m)\u001b[0m\u001b[0;34m:\u001b[0m\u001b[0;34m\u001b[0m\u001b[0;34m\u001b[0m\u001b[0m\n",
      "\u001b[0;31mAssertionError\u001b[0m: ISAC environment consistency tests failed"
     ]
    }
   ],
   "source": [
    "mtc = MyTestCase()\n",
    "# Set logger level e.g., DEBUG, INFO, WARNING, ERROR\n",
    "import logging\n",
    "logging.getLogger().setLevel(logging.DEBUG)\n",
    "\n",
    "mtc.test_env_consistency()"
   ]
  },
  {
   "cell_type": "code",
   "execution_count": null,
   "id": "3f863bfa",
   "metadata": {},
   "outputs": [],
   "source": [
    "\n",
    "\n",
    "# importing os module\n",
    "import ISAC.ISAC_Env.veicband\n",
    " \n",
    "\n",
    "\n",
    "# importing random module\n",
    "import inspect\n",
    " \n",
    "# printing the file path of os module\n",
    "print(inspect.getfile(ISAC.ISAC_Env.veicband))"
   ]
  },
  {
   "cell_type": "code",
   "execution_count": null,
   "id": "a7a13e3e",
   "metadata": {},
   "outputs": [],
   "source": []
  }
 ],
 "metadata": {
  "kernelspec": {
   "display_name": "Python 3 (ipykernel)",
   "language": "python",
   "name": "python3"
  },
  "language_info": {
   "codemirror_mode": {
    "name": "ipython",
    "version": 3
   },
   "file_extension": ".py",
   "mimetype": "text/x-python",
   "name": "python",
   "nbconvert_exporter": "python",
   "pygments_lexer": "ipython3",
   "version": "3.8.10"
  }
 },
 "nbformat": 4,
 "nbformat_minor": 5
}
